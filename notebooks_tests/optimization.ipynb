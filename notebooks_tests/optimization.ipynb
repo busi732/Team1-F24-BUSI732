{
 "cells": [
  {
   "cell_type": "markdown",
   "metadata": {},
   "source": [
    "### Using PuLP package"
   ]
  },
  {
   "cell_type": "code",
   "execution_count": 5,
   "metadata": {},
   "outputs": [],
   "source": [
    "import pandas as pd\n",
    "import pulp\n",
    "from pulp import LpProblem, LpMinimize, LpVariable, lpSum"
   ]
  },
  {
   "cell_type": "code",
   "execution_count": null,
   "metadata": {},
   "outputs": [],
   "source": [
    "class MaintenanceOptimization:\n",
    "    '''\n",
    "    data: \n",
    "        The dataframe containing turbine fault, SCADA, and status information.\n",
    "    model: \n",
    "        The optimization model for minimizing maintenance costs.\n",
    "    downtime_vars: \n",
    "        A dictionary of decision variables representing downtime hours for each observation.\n",
    "    '''\n",
    "    def __init__(self, data):\n",
    "        self.data = data\n",
    "        self.model = LpProblem(\"Maintenance_Cost_Minimization\", LpMinimize)\n",
    "        self.downtime_vars = LpVariable.dicts(\"Downtime\", data.index, lowBound=0, upBound=24, cat='Continuous')\n",
    "\n",
    "    def setup_objective(self):\n",
    "        '''\n",
    "        Sets up the objective function for the optimization model, which minimizes total maintenance and downtime costs.\n",
    "        '''\n",
    "        maintenance_costs = []\n",
    "        downtime_costs = []\n",
    "\n",
    "        for i, row in self.data.iterrows():\n",
    "            fault_type = row['Fault']\n",
    "            is_high_demand = row['Is_High_Demand']\n",
    "\n",
    "            # Maintenance cost per fault type\n",
    "            if is_high_demand:\n",
    "                maintenance_cost = 150000\n",
    "            elif fault_type == 'Routine':\n",
    "                maintenance_cost = 750000\n",
    "            else:\n",
    "                maintenance_cost = 50000\n",
    "\n",
    "            # Downtime cost\n",
    "            production_loss = row['WEC: Production kwh'] * self.downtime_vars[i]\n",
    "            downtime_cost = production_loss * 0.1  # Cost per kWh downtime\n",
    "\n",
    "            maintenance_costs.append(maintenance_cost)\n",
    "            downtime_costs.append(downtime_cost)\n",
    "\n",
    "        # Define objective function\n",
    "        self.model += lpSum(maintenance_costs) + lpSum(downtime_costs), \"Total_Maintenance_Cost\"\n",
    "\n",
    "    def add_constraints(self):\n",
    "        '''\n",
    "        Adds necessary constraints to the model, such as maximum allowable downtime per observation.\n",
    "        '''\n",
    "        # Add constraints (example: operational availability)\n",
    "        for i in self.data.index:\n",
    "            downtime_constraint = self.downtime_vars[i] <= 24\n",
    "            constraint_name = f\"Maximum allowable downtime for observation {i}\"\n",
    "            self.model += downtime_constraint, constraint_name\n",
    "\n",
    "    def solve(self):\n",
    "        '''\n",
    "        Solves the optimization model and returns the decision variable values.\n",
    "        '''\n",
    "        self.model.solve()\n",
    "        \n",
    "        result_dict = {}\n",
    "        for v in self.model.variables():\n",
    "            result_dict[v.name] = v.varValue\n",
    "\n",
    "        return result_dict\n",
    "\n"
   ]
  }
 ],
 "metadata": {
  "kernelspec": {
   "display_name": "732_turbine_env",
   "language": "python",
   "name": "python3"
  },
  "language_info": {
   "codemirror_mode": {
    "name": "ipython",
    "version": 3
   },
   "file_extension": ".py",
   "mimetype": "text/x-python",
   "name": "python",
   "nbconvert_exporter": "python",
   "pygments_lexer": "ipython3",
   "version": "3.8.20"
  }
 },
 "nbformat": 4,
 "nbformat_minor": 2
}
