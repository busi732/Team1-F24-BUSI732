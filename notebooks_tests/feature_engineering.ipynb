{
 "cells": [
  {
   "cell_type": "markdown",
   "metadata": {},
   "source": [
    "# Feature Engineering"
   ]
  },
  {
   "cell_type": "code",
   "execution_count": 2,
   "metadata": {},
   "outputs": [],
   "source": [
    "import pandas as pd\n",
    "import numpy as np\n",
    "import sys\n",
    "from pathlib import Path\n",
    "from sklearn.linear_model import LinearRegression\n",
    "from sklearn.model_selection import train_test_split\n",
    "import seaborn as sns\n",
    "import matplotlib.pyplot as plt\n",
    "%matplotlib inline"
   ]
  },
  {
   "cell_type": "code",
   "execution_count": 84,
   "metadata": {},
   "outputs": [],
   "source": [
    "# Add the src directory to the Python path\n",
    "sys.path.append(str(Path.cwd() / \"src\"))\n",
    "\n",
    "# Execute the file and get the function into the local scope\n",
    "exec(open(str(Path.cwd().parent / \"src\" / \"data_ingestion.py\")).read())\n",
    "\n",
    "# Define base directory\n",
    "base_dir = Path.cwd().resolve().parent\n",
    "data_dir = base_dir/ 'data' / 'raw'\n",
    "\n",
    "# Using the ingest_data function to read csv files\n",
    "df_fault = ingest_data( data_dir / \"fault_data.csv\")\n",
    "df_scada = ingest_data(data_dir / \"scada_data.csv\")\n",
    "df_status = ingest_data(data_dir / \"status_data.csv\")"
   ]
  },
  {
   "cell_type": "code",
   "execution_count": 85,
   "metadata": {},
   "outputs": [
    {
     "name": "stdout",
     "output_type": "stream",
     "text": [
      "datetime64[ns]\n",
      "datetime64[ns]\n",
      "datetime64[ns]\n",
      "datetime64[ns]\n",
      "datetime64[ns]\n"
     ]
    }
   ],
   "source": [
    "# Converting 'DateTime' columns to 'datatime' object type for df_fault and df_scada\n",
    "df_fault[\"DateTime\"] = pd.to_datetime(df_fault['DateTime'], errors='coerce')\n",
    "df_scada[\"DateTime\"] = pd.to_datetime(df_scada['DateTime'], errors='coerce')\n",
    "\n",
    "# Double check the datetime columns are the correct data type\n",
    "print(df_fault['DateTime'].dtype)\n",
    "print(df_scada['DateTime'].dtype)\n",
    "\n",
    "# Converting 'Time' columns to 'datetime' for all three csvs\n",
    "df_fault['Time'] = pd.to_datetime(df_fault['Time'], dayfirst=True)\n",
    "df_scada['Time'] = pd.to_datetime(df_scada['Time'], dayfirst=True)\n",
    "df_status['Time'] = pd.to_datetime(df_status['Time'], dayfirst=True)\n",
    "\n",
    "# Double check the 'Time' columns are the correct data type\n",
    "print(df_fault['Time'].dtype)\n",
    "print(df_scada['Time'].dtype)\n",
    "print(df_status['Time'].dtype)"
   ]
  },
  {
   "cell_type": "markdown",
   "metadata": {},
   "source": [
    "# Feature #1: high_demand_season and low_demand_season\n",
    "This feature identifies the 6 months with the highest and lowest WEC : Production kWh"
   ]
  },
  {
   "cell_type": "code",
   "execution_count": 5,
   "metadata": {},
   "outputs": [
    {
     "data": {
      "image/png": "[encoded data removed]",
      "text/plain": [
       "<Figure size 1000x600 with 1 Axes>"
      ]
     },
     "metadata": {},
     "output_type": "display_data"
    },
    {
     "name": "stdout",
     "output_type": "stream",
     "text": [
      "High demand months (Oct-Mar): [3, 2, 1, 12, 11, 10]\n",
      "Low demand months (Apr-Sep): [9, 8, 4, 7, 6, 5]\n"
     ]
    }
   ],
   "source": [
    "# Extract the Months from SCADA data\n",
    "df_scada['Month'] = df_scada['DateTime'].dt.month\n",
    "\n",
    "# Calculate total production per month\n",
    "monthly_production = df_scada.groupby('Month')['WEC: Production kWh'].sum()\n",
    "\n",
    "# Sort months by production in descending order\n",
    "sorted_monthly_production = monthly_production.sort_values(ascending=False)\n",
    "\n",
    "# Identify top 6 high-demand months and bottom 6 low-demand months\n",
    "high_demand_season = sorted_monthly_production.head(6).index.tolist()\n",
    "low_demand_season = sorted_monthly_production.tail(6).index.tolist()\n",
    "\n",
    "# Plot sorted production for visualization\n",
    "plt.figure(figsize=(10, 6))\n",
    "sorted_monthly_production.plot(kind='bar', color=['red' if i in high_demand_season else 'blue' for i in sorted_monthly_production.index])\n",
    "plt.title('Monthly Energy Production Descending')\n",
    "plt.xlabel('Month')\n",
    "plt.ylabel('Total Production kWh')\n",
    "plt.xticks(rotation=0)\n",
    "plt.show()\n",
    "\n",
    "# Output the identified months\n",
    "print(f\"High demand months (Oct-Mar): {high_demand_season}\")\n",
    "print(f\"Low demand months (Apr-Sep): {low_demand_season}\")"
   ]
  },
  {
   "cell_type": "markdown",
   "metadata": {},
   "source": [
    "# Feature #2: high_season_faults and low_season_faults\n",
    "This feature creates two dataframes, one for high demand season and one for low demand season, showing the fault counts for each fault type"
   ]
  },
  {
   "cell_type": "code",
   "execution_count": 6,
   "metadata": {},
   "outputs": [
    {
     "name": "stdout",
     "output_type": "stream",
     "text": [
      "  Fault Season  Count\n",
      "0    AF   High      6\n",
      "2    EF   High    159\n",
      "4    FF   High    240\n",
      "6    GF   High     37\n",
      "8    MF   High      4\n",
      "  Fault Season  Count\n",
      "1    AF    Low     56\n",
      "3    EF    Low     15\n",
      "5    FF    Low     14\n",
      "7    GF    Low      6\n",
      "9    MF    Low     16\n"
     ]
    }
   ],
   "source": [
    "df_fault['Month'] = df_fault['DateTime'].dt.month\n",
    "\n",
    "# Tag each record with its season (High or Low demand)\n",
    "df_fault['Season'] = df_fault['Month'].apply(lambda x: 'High' if x in high_demand_season else 'Low')\n",
    "\n",
    "# Count occurrences of each fault type by season\n",
    "fault_counts = df_fault.groupby(['Fault', 'Season']).size().reset_index(name='Count')\n",
    "\n",
    "# Create separate DataFrames for high-demand and low-demand seasons\n",
    "high_season_faults = fault_counts[fault_counts['Season'] == 'High']\n",
    "low_season_faults = fault_counts[fault_counts['Season'] == 'Low']\n",
    "\n",
    "print(high_season_faults)\n",
    "print(low_season_faults)"
   ]
  },
  {
   "cell_type": "markdown",
   "metadata": {},
   "source": [
    "# Feature # 3: total_downtime_minutes, energy_loss_kwh, average_production_rate, and revenue_loss"
   ]
  },
  {
   "cell_type": "code",
   "execution_count": 7,
   "metadata": {},
   "outputs": [
    {
     "name": "stdout",
     "output_type": "stream",
     "text": [
      "Total downtime (minutes): 11,796.00\n",
      "Average production rate (kWh/min): 179.32\n",
      "Energy production loss (kWh): 2,115,278.26\n",
      "Revenue loss ($): 549,972.35\n"
     ]
    }
   ],
   "source": [
    "# Calculate time differences between rows in 'DateTime' column and convert to minutes\n",
    "df_scada['Time_Diff_Minutes'] = df_scada['DateTime'].diff().dt.total_seconds() / 60 \n",
    "\n",
    "# Calculate the difference in production between consecutive rows\n",
    "df_scada['Production Increment (kWh)'] = df_scada['WEC: Production kWh'].diff()\n",
    "\n",
    "# Normalize production by time intervals\n",
    "df_scada['Production Rate (kWh/min)'] = df_scada['Production Increment (kWh)'] / df_scada['Time_Diff_Minutes']\n",
    "\n",
    "# Filter out invalid rows (Time_Diff_Minutes <= 0 or null, Production Increment null)\n",
    "df_scada = df_scada[\n",
    "    (df_scada['Time_Diff_Minutes'] > 0) & \n",
    "    (df_scada['Production Increment (kWh)'].notnull())\n",
    "]\n",
    "\n",
    "# Identify downtime rows where (Production minutes = 0)\n",
    "downtime_rows = df_scada[df_scada['WEC: Production minutes'] == 0]\n",
    "\n",
    "# Sum up the total downtime minutes\n",
    "total_downtime_minutes = downtime_rows['Time_Diff_Minutes'].sum()\n",
    "\n",
    "# Calculate the average production rate (kWh/min) for non-downtime rows\n",
    "non_downtime_rows = df_scada[df_scada['WEC: Production minutes'] > 0]\n",
    "average_production_rate = non_downtime_rows['Production Rate (kWh/min)'].mean()\n",
    "\n",
    "# Calculate energy production loss during downtime\n",
    "energy_loss_kwh = total_downtime_minutes * average_production_rate\n",
    "\n",
    "# Define energy price per kWh\n",
    "energy_price_per_kwh = 0.26  # Average cost of wind turbine kWh, based on research\n",
    "revenue_loss = energy_loss_kwh * energy_price_per_kwh\n",
    "\n",
    "# Output the results\n",
    "print(f\"Total downtime (minutes): {total_downtime_minutes:,.2f}\")\n",
    "print(f\"Average production rate (kWh/min): {average_production_rate:,.2f}\")\n",
    "print(f\"Energy production loss (kWh): {energy_loss_kwh:,.2f}\")\n",
    "print(f\"Revenue loss ($): {revenue_loss:,.2f}\")"
   ]
  },
  {
   "cell_type": "markdown",
   "metadata": {},
   "source": [
    "# Feature # 4: Fault Severity"
   ]
  },
  {
   "cell_type": "code",
   "execution_count": 9,
   "metadata": {},
   "outputs": [
    {
     "name": "stdout",
     "output_type": "stream",
     "text": [
      "Fault Messages for Top 9 Full Status Combinations:\n",
      "     Full Status  FaultMsg                                        Status Text\n",
      "0          0 : 0     False                               Turbine in operation\n",
      "1       71 : 104      True  Insulation monitoring : Insulation fault Phase U2\n",
      "2          8 : 0     False                                        Maintenance\n",
      "5        240 : 1     False                   Remote control PC : switched off\n",
      "6        240 : 0     False                    Remote control PC : switched on\n",
      "...          ...       ...                                                ...\n",
      "1526      31 : 1     False        Tower oscillation : Transversal oscillation\n",
      "1530      3 : 12     False                Storm : Average windspeed - (10min)\n",
      "1674    22 : 226     False  Yaw control fault : TWK NOCN: fault in cam swi...\n",
      "1765       2 : 2     False                   Lack of wind : Wind speed to low\n",
      "1769     66 : 32     False    Feeding fault : External shut down several inv.\n",
      "\n",
      "[61 rows x 3 columns]\n"
     ]
    }
   ],
   "source": [
    "# Count occurrences of each combined status\n",
    "status_counts = df_status['Full Status'].value_counts()\n",
    "\n",
    "# Extract the top 9 Full Status combinations from status_counts\n",
    "full_status_list = status_counts.index.tolist()\n",
    "\n",
    "# Filter rows in df_status matching these Full Status combinations\n",
    "filtered_faults = df_status[df_status['Full Status'].isin(full_status_list)]\n",
    "\n",
    "# Display FaultMsg and Status Text for these combinations\n",
    "print(\"Fault Messages for Top 9 Full Status Combinations:\")\n",
    "print(filtered_faults[['Full Status', 'FaultMsg', 'Status Text']].drop_duplicates())"
   ]
  },
  {
   "cell_type": "code",
   "execution_count": 10,
   "metadata": {},
   "outputs": [
    {
     "name": "stdout",
     "output_type": "stream",
     "text": [
      "Combined Frequency, Status Text, and Severity:\n",
      "   Full Status  Frequency                                        Status Text  \\\n",
      "0        0 : 1        393                                   Turbine starting   \n",
      "1        0 : 0        365                               Turbine in operation   \n",
      "2        0 : 2        331                                Turbine operational   \n",
      "3        2 : 1        166                   Lack of wind : Wind speed to low   \n",
      "4      80 : 21         84             Excitation error : Overvoltage DC-link   \n",
      "5        0 : 8         79            Turbine in operation during maintenance   \n",
      "6        0 : 5         68                       Calibration of  load control   \n",
      "7        8 : 0         64                                        Maintenance   \n",
      "8       62 : 3         47                      Feeding fault : Load shedding   \n",
      "9     62 : 701         28        Feeding fault : Overload chopper inverter 1   \n",
      "10     222 : 3         23                       Turbine reset : Scada system   \n",
      "11   228 : 100         20       Timeout warnmessage : Malfunction aircooling   \n",
      "12     240 : 0         16                    Remote control PC : switched on   \n",
      "13     240 : 1         16                   Remote control PC : switched off   \n",
      "14       1 : 1         16                  Turbine stopped : Control cabinet   \n",
      "15      21 : 2         11                  Cable twisted : Right (2-3 turns)   \n",
      "16       0 : 3         11                                      Start lead-up   \n",
      "17    62 : 519          8      Feeding fault : No zero crossing several inv.   \n",
      "18      60 : 2          7                        Mains failure : Start delay   \n",
      "19     222 : 1          7                      Turbine reset : Power failure   \n",
      "20      17 : 0          6                               Test security system   \n",
      "21    220 : 56          6                     Processor reset : Fan inverter   \n",
      "22    220 : 33          5                    Processor reset : Power Control   \n",
      "23     204 : 0          5                       Data bus error all inverters   \n",
      "24   206 : 411          5  No data from power control : Inverter control ...   \n",
      "25    67 : 604          5           Overtemperature : Power choke inverter 4   \n",
      "26    22 : 226          3  Yaw control fault : TWK NOCN: fault in cam swi...   \n",
      "27    62 : 919          3    Feeding fault : External shut down several inv.   \n",
      "28    301 : 81          3  Feeding control bus error (Bus-Off) : I/O-boar...   \n",
      "29     222 : 2          3                        Turbine reset : Quit button   \n",
      "30     222 : 5          3                     Turbine reset : Remote display   \n",
      "31    220 : 52          3                   Processor reset : Yaw inverter 2   \n",
      "32       9 : 3          3             Generator heating : Hygrostat inverter   \n",
      "33    26 : 373          3  Malfunction fan-inverter : Other control board...   \n",
      "34     60 : 11          3                    Mains failure : Undervoltage L1   \n",
      "35    220 : 51          3                   Processor reset : Yaw inverter 1   \n",
      "36    62 : 910          2     Feeding fault : External shut down inverter 10   \n",
      "37       1 : 3          2           Turbine stopped : Scada System (ENERCON)   \n",
      "38     66 : 32          2    Feeding fault : External shut down several inv.   \n",
      "39       9 : 4          2            Generator heating : Hygrostat rectifier   \n",
      "40    42 : 307          2          Pitch control error : Angle error blade C   \n",
      "41   240 : 246          1          Remote control PC : Timeout receivebuffer   \n",
      "42       2 : 2          1                   Lack of wind : Wind speed to low   \n",
      "43     60 : 12          1                    Mains failure : Undervoltage L2   \n",
      "44      3 : 12          1                Storm : Average windspeed - (10min)   \n",
      "45      31 : 1          1        Tower oscillation : Transversal oscillation   \n",
      "46    307 : 14          1  Data bus error blade control (timeout) : Blade...   \n",
      "47    304 : 56          1            Data bus error (Timeout) : Fan inverter   \n",
      "48       9 : 1          1                       Generator heating : Isometer   \n",
      "49      21 : 1          1                   Cable twisted : Left (2-3 turns)   \n",
      "50    72 : 301          1              Air gap monitoring : Sensor 1 blade C   \n",
      "51    15 : 111          1                          Turbine moist : Rectifier   \n",
      "52    62 : 505          1        Feeding fault : No zero crossing inverter 5   \n",
      "53    62 : 502          1        Feeding fault : No zero crossing inverter 2   \n",
      "54     15 : 19          1                  Turbine moist : Several inverters   \n",
      "55    62 : 510          1       Feeding fault : No zero crossing inverter 10   \n",
      "56    62 : 501          1        Feeding fault : No zero crossing inverter 1   \n",
      "57    71 : 104          1  Insulation monitoring : Insulation fault Phase U2   \n",
      "\n",
      "   Severity  \n",
      "0       Low  \n",
      "1       Low  \n",
      "2       Low  \n",
      "3       Low  \n",
      "4      High  \n",
      "5       Low  \n",
      "6    Medium  \n",
      "7       Low  \n",
      "8      High  \n",
      "9      High  \n",
      "10   Medium  \n",
      "11     High  \n",
      "12  Unknown  \n",
      "13   Medium  \n",
      "14   Medium  \n",
      "15   Medium  \n",
      "16      Low  \n",
      "17     High  \n",
      "18   Medium  \n",
      "19   Medium  \n",
      "20      Low  \n",
      "21     High  \n",
      "22     High  \n",
      "23     High  \n",
      "24     High  \n",
      "25     High  \n",
      "26   Medium  \n",
      "27     High  \n",
      "28     High  \n",
      "29  Unknown  \n",
      "30   Medium  \n",
      "31     High  \n",
      "32   Medium  \n",
      "33   Medium  \n",
      "34   Medium  \n",
      "35     High  \n",
      "36     High  \n",
      "37   Medium  \n",
      "38     High  \n",
      "39   Medium  \n",
      "40     High  \n",
      "41   Medium  \n",
      "42      Low  \n",
      "43   Medium  \n",
      "44   Medium  \n",
      "45   Medium  \n",
      "46     High  \n",
      "47     High  \n",
      "48   Medium  \n",
      "49   Medium  \n",
      "50     High  \n",
      "51   Medium  \n",
      "52     High  \n",
      "53     High  \n",
      "54   Medium  \n",
      "55     High  \n",
      "56     High  \n",
      "57     High  \n"
     ]
    },
    {
     "data": {
      "image/png": "[encoded data removed]",
      "text/plain": [
       "<Figure size 800x600 with 1 Axes>"
      ]
     },
     "metadata": {},
     "output_type": "display_data"
    }
   ],
   "source": [
    "# Step 1: Calculate the frequency of Full Status codes\n",
    "status_counts = df_status['Full Status'].value_counts().reset_index()\n",
    "status_counts.columns = ['Full Status', 'Frequency']\n",
    "\n",
    "# Step 2: Define lists of Full Status codes by severity\n",
    "low_severity_codes = ['0 : 0', '8 : 0', '0 : 1', '0 : 8', '2 : 1', '0 : 2', '0 : 3', '17 : 0', '2 : 2']\n",
    "medium_severity_codes = [\n",
    "    '240 : 1', '9 : 3', '0 : 5', '60 : 11', '222 : 1', '60 : 2', '26 : 373', \n",
    "    '1 : 1', '21 : 2', '222 : 3', '1 : 3', '222 : 5', '60 : 12', '9 : 4', \n",
    "    '15 : 111', '15 : 19', '21 : 1', '240 : 246', '9 : 1', '31 : 1', '3 : 12', \n",
    "    '22 : 226'\n",
    "]\n",
    "high_severity_codes = [\n",
    "    '71 : 104', '67 : 604', '220 : 56', '220 : 33', '62 : 505', '228 : 100', \n",
    "    '62 : 501', '206 : 411', '220 : 52', '220 : 51', '62 : 3', '80 : 21', \n",
    "    '42 : 307', '62 : 701', '72 : 301', '62 : 519', '62 : 510', '62 : 919', \n",
    "    '62 : 910', '62 : 502', '204 : 0', '301 : 81', '304 : 56', '307 : 14', '66 : 32'\n",
    "]\n",
    "\n",
    "# Step 3: Define a function to determine fault severity based on Full Status\n",
    "def determine_severity(full_status):\n",
    "    if full_status in low_severity_codes:\n",
    "        return 'Low'\n",
    "    elif full_status in medium_severity_codes:\n",
    "        return 'Medium'\n",
    "    elif full_status in high_severity_codes:\n",
    "        return 'High'\n",
    "    else:\n",
    "        return 'Unknown'\n",
    "\n",
    "# Step 4: Apply the severity mapping function to the DataFrame\n",
    "df_status['Severity'] = df_status['Full Status'].apply(determine_severity)\n",
    "\n",
    "# Step 5: Extract unique Full Status, Status Text, and Severity\n",
    "filtered_faults = df_status[['Full Status', 'Status Text', 'Severity']].drop_duplicates()\n",
    "\n",
    "# Step 6: Merge frequency counts with severity and status text\n",
    "combined_data = pd.merge(status_counts, filtered_faults, on='Full Status', how='left')\n",
    "\n",
    "# Step 7: Display the combined DataFrame\n",
    "print(\"Combined Frequency, Status Text, and Severity:\")\n",
    "print(combined_data)\n",
    "\n",
    "# Step 8: Optional - Analyze severity distribution\n",
    "severity_counts = combined_data['Severity'].value_counts()\n",
    "\n",
    "import matplotlib.pyplot as plt\n",
    "\n",
    "plt.figure(figsize=(8, 6))\n",
    "severity_counts.plot(kind='bar', color='skyblue')\n",
    "plt.title('Severity Distribution by Full Status')\n",
    "plt.xlabel('Severity Level')\n",
    "plt.ylabel('Frequency')\n",
    "plt.xticks(rotation=0)\n",
    "plt.show()"
   ]
  },
  {
   "cell_type": "markdown",
   "metadata": {},
   "source": [
    "# Feature # 5: Temperature features"
   ]
  },
  {
   "cell_type": "code",
   "execution_count": 74,
   "metadata": {},
   "outputs": [
    {
     "name": "stdout",
     "output_type": "stream",
     "text": [
      "Identified Temperature Columns:\n",
      "               Temperature Column\n",
      "0  Sys 1 inverter 1 cabinet temp.\n",
      "1  Sys 1 inverter 2 cabinet temp.\n",
      "2  Sys 1 inverter 3 cabinet temp.\n",
      "3  Sys 1 inverter 4 cabinet temp.\n",
      "4  Sys 1 inverter 5 cabinet temp.\n",
      "5  Sys 1 inverter 6 cabinet temp.\n",
      "6  Sys 1 inverter 7 cabinet temp.\n",
      "7  Sys 2 inverter 1 cabinet temp.\n",
      "8  Sys 2 inverter 2 cabinet temp.\n",
      "9  Sys 2 inverter 3 cabinet temp.\n"
     ]
    }
   ],
   "source": [
    "# Inspect column names for temperature-related data\n",
    "temperature_columns = [col for col in df_scada.columns if 'temp' in col.lower()]\n",
    "\n",
    "# Create a DataFrame with indexed temperature columns\n",
    "temperature_df = pd.DataFrame(temperature_columns, columns=[\"Temperature Column\"])\n",
    "# Display the indexed DataFrame\n",
    "print(\"Identified Temperature Columns:\")\n",
    "print(temperature_df.head(10))"
   ]
  },
  {
   "cell_type": "code",
   "execution_count": null,
   "metadata": {},
   "outputs": [],
   "source": [
    "# Step 1: Filter out blade-related columns\n",
    "excluded_keywords = ['Blade', 'blade']  # Keywords for exclusion\n",
    "filtered_temperature_columns = [\n",
    "    col for col in temperature_columns if not any(keyword in col.lower() for keyword in excluded_keywords)\n",
    "]\n",
    "\n",
    "# Step 2: Convert temperature columns to numeric and calculate significant changes\n",
    "temperature_changes_summary = {}\n",
    "\n",
    "for col in filtered_temperature_columns:\n",
    "    # Convert to numeric (if needed)\n",
    "    temp_data = pd.to_numeric(df_scada[col], errors='coerce')\n",
    "\n",
    "    # Calculate first-order differences\n",
    "    temp_changes = temp_data.diff()\n",
    "\n",
    "    # Calculate thresholds (mean ± 3*std)\n",
    "    mean = temp_data.mean()\n",
    "    std = temp_data.std()\n",
    "    lower_threshold = mean - 5 * std\n",
    "    upper_threshold = mean + 5 * std\n",
    "\n",
    "    # Identify significant changes\n",
    "    significant_changes = ((temp_changes < lower_threshold) | (temp_changes > upper_threshold)).sum()\n",
    "\n",
    "    # Store results in a dictionary\n",
    "    temperature_changes_summary[col] = {\n",
    "        \"Mean\": mean,\n",
    "        \"Std\": std,\n",
    "        \"Lower Threshold\": lower_threshold,\n",
    "        \"Upper Threshold\": upper_threshold,\n",
    "        \"Significant Changes\": significant_changes\n",
    "    }\n",
    "\n",
    "# Step 3: Create a summary DataFrame for results\n",
    "summary_df = pd.DataFrame.from_dict(temperature_changes_summary, orient='index')\n",
    "\n",
    "# Display the summary\n",
    "print(summary_df)"
   ]
  },
  {
   "cell_type": "code",
   "execution_count": 79,
   "metadata": {},
   "outputs": [
    {
     "name": "stdout",
     "output_type": "stream",
     "text": [
      "Filtered Columns with Significant Changes > 40,000:\n",
      "                      Column Name  Significant Changes\n",
      "0  Sys 2 inverter 1 cabinet temp.                43543\n",
      "1  Sys 2 inverter 2 cabinet temp.                42881\n",
      "2  Sys 2 inverter 5 cabinet temp.                49007\n",
      "3  Sys 2 inverter 7 cabinet temp.                49007\n",
      "4              Rear bearing temp.                45678\n",
      "5         Rectifier cabinet temp.                48930\n",
      "6      Fan inverter cabinet temp.                48974\n"
     ]
    }
   ],
   "source": [
    "# Filter columns with Significant Changes > 40,000\n",
    "filtered_summary = summary_df[summary_df['Significant Changes'] > 40000]\n",
    "\n",
    "# Create a new DataFrame with just the column name and significant changes value\n",
    "filtered_significant_changes = filtered_summary[['Significant Changes']].reset_index()\n",
    "filtered_significant_changes.rename(columns={'index': 'Column Name'}, inplace=True)\n",
    "\n",
    "# Display the filtered DataFrame\n",
    "print(\"Filtered Columns with Significant Changes > 40,000:\")\n",
    "print(filtered_significant_changes)"
   ]
  }
 ],
 "metadata": {
  "kernelspec": {
   "display_name": "732_turbine_env",
   "language": "python",
   "name": "python3"
  },
  "language_info": {
   "codemirror_mode": {
    "name": "ipython",
    "version": 3
   },
   "file_extension": ".py",
   "mimetype": "text/x-python",
   "name": "python",
   "nbconvert_exporter": "python",
   "pygments_lexer": "ipython3",
   "version": "3.8.20"
  }
 },
 "nbformat": 4,
 "nbformat_minor": 2
}
