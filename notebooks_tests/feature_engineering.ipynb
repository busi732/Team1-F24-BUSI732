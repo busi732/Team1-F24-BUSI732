{
 "cells": [
  {
   "cell_type": "markdown",
   "metadata": {},
   "source": [
    "# Feature Engineering based on HDD Goals"
   ]
  },
  {
   "cell_type": "code",
   "execution_count": 1,
   "metadata": {},
   "outputs": [],
   "source": [
    "import pandas as pd\n",
    "import sys\n",
    "from pathlib import Path\n",
    "from sklearn.linear_model import LinearRegression\n",
    "from sklearn.model_selection import train_test_split\n",
    "import seaborn as sns\n",
    "import matplotlib.pyplot as plt\n",
    "%matplotlib inline"
   ]
  },
  {
   "cell_type": "code",
   "execution_count": 2,
   "metadata": {},
   "outputs": [],
   "source": [
    "# Add the src directory to the Python path\n",
    "sys.path.append(str(Path.cwd() / \"src\"))\n",
    "\n",
    "# Execute the file and get the function into the local scope\n",
    "exec(open(str(Path.cwd().parent / \"src\" / \"data_ingestion.py\")).read())\n",
    "\n",
    "# Define base directory\n",
    "base_dir = Path.cwd().resolve().parent\n",
    "data_dir = base_dir/ 'data' / 'raw'\n",
    "\n",
    "# Using the ingest_data function to read csv files\n",
    "df_fault = ingest_data( data_dir / \"fault_data.csv\")\n",
    "df_scada = ingest_data(data_dir / \"scada_data.csv\")\n",
    "df_status = ingest_data(data_dir / \"status_data.csv\")"
   ]
  },
  {
   "cell_type": "code",
   "execution_count": 3,
   "metadata": {},
   "outputs": [
    {
     "name": "stdout",
     "output_type": "stream",
     "text": [
      "datetime64[ns]\n",
      "datetime64[ns]\n",
      "datetime64[ns]\n",
      "datetime64[ns]\n",
      "datetime64[ns]\n"
     ]
    }
   ],
   "source": [
    "# Converting 'DateTime' columns to 'datatime' object type for df_fault and df_scada\n",
    "df_fault[\"DateTime\"] = pd.to_datetime(df_fault['DateTime'], errors='coerce')\n",
    "df_scada[\"DateTime\"] = pd.to_datetime(df_scada['DateTime'], errors='coerce')\n",
    "\n",
    "# Double check the datetime columns are the correct data type\n",
    "print(df_fault['DateTime'].dtype)\n",
    "print(df_scada['DateTime'].dtype)\n",
    "\n",
    "# Converting 'Time' columns to 'datetime' for all three csvs\n",
    "df_fault['Time'] = pd.to_datetime(df_fault['Time'], dayfirst=True)\n",
    "df_scada['Time'] = pd.to_datetime(df_scada['Time'], dayfirst=True)\n",
    "df_status['Time'] = pd.to_datetime(df_status['Time'], dayfirst=True)\n",
    "\n",
    "# Double check the 'Time' columns are the correct data type\n",
    "print(df_fault['Time'].dtype)\n",
    "print(df_scada['Time'].dtype)\n",
    "print(df_status['Time'].dtype)"
   ]
  },
  {
   "cell_type": "markdown",
   "metadata": {},
   "source": [
    "# Feature #1: Integrate Seasonal Data\n",
    "Objective: Aggregate SCADA production levels from scada_df and fault counts from fault_df to analyze seasonal production, fault count, and fault rates."
   ]
  },
  {
   "cell_type": "code",
   "execution_count": 4,
   "metadata": {},
   "outputs": [],
   "source": [
    "def extract_time_features(df, datetime_column): \n",
    "    \"\"\"\n",
    "    Extracts time-based features like Month, Season, and Day of the week from a datetime column. \n",
    "    Dec-Feb: Winter\n",
    "    Mar-May: Spring\n",
    "    Jun-Aug: Summer\n",
    "    Sep-Nov: Fall\n",
    "\n",
    "    Args: \n",
    "        df: DataFrame containing datetime column.\n",
    "        datetime_column (str): The name of the datetime column.\n",
    "\n",
    "    Returns: \n",
    "        df: DataFrame with new time features\n",
    "    \"\"\"\n",
    "    # Extract the Month\n",
    "    df['Month'] = df[datetime_column].dt.month\n",
    "    # Extract the Day of the Week\n",
    "    df['Day_of_Week'] = df[datetime_column].dt.dayofweek  # Monday=0, Sunday=6\n",
    "    # Extract the Season\n",
    "    df['Season'] = df[datetime_column].dt.month.map({\n",
    "        12: 'Winter', 1: 'Winter', 2: 'Winter',\n",
    "        3: 'Spring', 4: 'Spring', 5: 'Spring',\n",
    "        6: 'Summer', 7: 'Summer', 8: 'Summer',\n",
    "        9: 'Fall', 10: 'Fall', 11: 'Fall'\n",
    "    })\n",
    "    return df"
   ]
  },
  {
   "cell_type": "code",
   "execution_count": 5,
   "metadata": {},
   "outputs": [],
   "source": [
    "# Apply the function to extract time features for SCADA and Fault Data\n",
    "df_fault = extract_time_features(df_fault, 'DateTime')\n",
    "df_scada = extract_time_features(df_scada, 'DateTime')"
   ]
  },
  {
   "cell_type": "code",
   "execution_count": 15,
   "metadata": {},
   "outputs": [],
   "source": [
    "def aggregate_by_season(scada_df, fault_df):\n",
    "    \"\"\"\n",
    "    Aggregates SCADA production levels and fault counts by season.\n",
    "\n",
    "    Args:\n",
    "        scada_df: SCADA data containing 'Season' and production metrics.\n",
    "        fault_df: Fault data containing 'Season' and Fault.\n",
    "\n",
    "    Returns:\n",
    "        tuple: DataFrames for aggregated production levels and fault counts by season.\n",
    "    \"\"\"\n",
    "    # Aggregate SCADA production levels\n",
    "    seasonal_production = scada_df.groupby('Season')['WEC: Production kWh'].mean().reset_index()\n",
    "    seasonal_production.rename(columns={'WEC: Production kWh': 'Avg_Production kWh'}, inplace=True)\n",
    "\n",
    "    # Aggregate fault counts\n",
    "    seasonal_faults = fault_df.groupby('Season')['Fault'].count().reset_index()\n",
    "    seasonal_faults.rename(columns={'Fault': 'Fault_Count'}, inplace=True)\n",
    "    \n",
    "    return seasonal_production, seasonal_faults"
   ]
  },
  {
   "cell_type": "code",
   "execution_count": 16,
   "metadata": {},
   "outputs": [
    {
     "name": "stdout",
     "output_type": "stream",
     "text": [
      "   Season  Avg_Production kWh\n",
      "0    Fall        3.530332e+06\n",
      "1  Spring        4.964072e+06\n",
      "2  Summer        1.832038e+06\n",
      "3  Winter        6.019912e+06\n",
      "   Season  Fault_Count\n",
      "0    Fall          270\n",
      "1  Spring            6\n",
      "2  Summer           98\n",
      "3  Winter          179\n"
     ]
    }
   ],
   "source": [
    "# Aggregate seasonal data\n",
    "seasonal_production, seasonal_faults = aggregate_by_season(df_scada, df_fault)\n",
    "\n",
    "# Verify the outputs\n",
    "print(seasonal_production)\n",
    "print(seasonal_faults)"
   ]
  },
  {
   "cell_type": "code",
   "execution_count": 17,
   "metadata": {},
   "outputs": [],
   "source": [
    "def merge_seasonal_data(seasonal_production, seasonal_faults):\n",
    "    \"\"\"\n",
    "    Merges seasonal production and fault data into a single DataFrame.\n",
    "\n",
    "    Args:\n",
    "        seasonal_production (pd.DataFrame): Seasonal production levels.\n",
    "        seasonal_faults (pd.DataFrame): Seasonal fault counts.\n",
    "\n",
    "    Returns:\n",
    "        pd.DataFrame: Combined seasonal analysis DataFrame.\n",
    "    \"\"\"\n",
    "    seasonal_data = pd.merge(seasonal_production, seasonal_faults, on='Season')\n",
    "    return seasonal_data"
   ]
  },
  {
   "cell_type": "code",
   "execution_count": 24,
   "metadata": {},
   "outputs": [
    {
     "name": "stdout",
     "output_type": "stream",
     "text": [
      "   Season  Avg_Production kWh  Fault_Count  Fault_Rate\n",
      "0    Fall        3.530332e+06          270    0.000076\n",
      "1  Spring        4.964072e+06            6    0.000001\n",
      "2  Summer        1.832038e+06           98    0.000053\n",
      "3  Winter        6.019912e+06          179    0.000030\n"
     ]
    }
   ],
   "source": [
    "# Merge seasonal production and fault data\n",
    "seasonal_data = merge_seasonal_data(seasonal_production, seasonal_faults)\n",
    "\n",
    "# Add 'Fault Rate' column to find the fault rate per season\n",
    "seasonal_data[\"Fault_Rate\"] = seasonal_data['Fault_Count'] / seasonal_data['Avg_Production kWh']\n",
    "\n",
    "# Verify the merged DataFrame\n",
    "print(seasonal_data)"
   ]
  },
  {
   "cell_type": "code",
   "execution_count": 27,
   "metadata": {},
   "outputs": [],
   "source": [
    "def plot_seasonal_analysis(seasonal_data):\n",
    "    \"\"\"\n",
    "    Plots seasonal production levels and fault counts.\n",
    "\n",
    "    Args:\n",
    "        seasonal_data (pd.DataFrame): Combined seasonal data.\n",
    "    \"\"\"\n",
    "    fig, ax1 = plt.subplots(figsize=(10, 6))\n",
    "\n",
    "    # Bar chart for average production\n",
    "    sns.barplot(data=seasonal_data, x='Season', y='Avg_Production kWh', ax=ax1, color='skyblue', alpha=0.6)\n",
    "    ax1.set_ylabel('Average Production Level', color='blue')\n",
    "\n",
    "    # Line chart for fault counts\n",
    "    ax2 = ax1.twinx()\n",
    "    sns.lineplot(data=seasonal_data, x='Season', y='Fault_Count', ax=ax2, marker='o', color='red')\n",
    "    ax2.set_ylabel('Fault Count', color='red')\n",
    "   \n",
    "    ax1.set_title('Seasonal Analysis of Production Levels and Fault Occurrences')\n",
    "    \n",
    "    plt.show()"
   ]
  },
  {
   "cell_type": "code",
   "execution_count": 28,
   "metadata": {},
   "outputs": [
    {
     "data": {
      "image/png": "[encoded data removed]",
      "text/plain": [
       "<Figure size 1000x600 with 2 Axes>"
      ]
     },
     "metadata": {},
     "output_type": "display_data"
    }
   ],
   "source": [
    "# Plot the seasonal analysis\n",
    "plot_seasonal_analysis(seasonal_data)"
   ]
  },
  {
   "cell_type": "markdown",
   "metadata": {},
   "source": [
    "# HDD Goal # 2: Optimal Maintenance Strategy Hypothesis\n",
    "Objective: Compare the speed and cost-effectiveness of in-house and external maintenance for different types of faults to decide which approach works best overall."
   ]
  },
  {
   "cell_type": "code",
   "execution_count": 35,
   "metadata": {},
   "outputs": [
    {
     "data": {
      "text/plain": [
       "0       2014-05-01 00:00:00\n",
       "1       2014-05-01 00:09:00\n",
       "2       2014-05-01 00:20:00\n",
       "3       2014-05-01 00:30:00\n",
       "4       2014-05-01 00:39:00\n",
       "                ...        \n",
       "49022   2015-04-08 23:20:00\n",
       "49023   2015-04-08 23:30:00\n",
       "49024   2015-04-08 23:39:00\n",
       "49025   2015-04-08 23:50:00\n",
       "49026   2015-04-09 00:00:00\n",
       "Name: DateTime, Length: 49027, dtype: datetime64[ns]"
      ]
     },
     "execution_count": 35,
     "metadata": {},
     "output_type": "execute_result"
    }
   ],
   "source": [
    "df_scada['DateTime']"
   ]
  },
  {
   "cell_type": "code",
   "execution_count": null,
   "metadata": {},
   "outputs": [
    {
     "name": "stdout",
     "output_type": "stream",
     "text": [
      "Total downtime (minutes): 11785.00\n"
     ]
    }
   ],
   "source": [
    "# Ensure DateTime is sorted by chronological order\n",
    "df_scada = df_scada.sort_values('DateTime')\n",
    "\n",
    "# Calculate time differences between rows in minutes\n",
    "df_scada['Time_Diff_Minutes'] = df_scada['DateTime'].diff().dt.total_seconds() / 60\n",
    "\n",
    "# Identify rows where Production minutes = 0 (downtime rows)\n",
    "downtime_rows = df_scada[df_scada['WEC: Production minutes'] == 0]\n",
    "\n",
    "# Sum up the actual time differences for downtime rows\n",
    "total_downtime_minutes = downtime_rows['Time_Diff_Minutes'].sum()\n",
    "\n",
    "# Output the results\n",
    "print(f\"Total downtime (minutes): {total_downtime_minutes:.2f}\")"
   ]
  },
  {
   "cell_type": "code",
   "execution_count": 40,
   "metadata": {},
   "outputs": [
    {
     "name": "stdout",
     "output_type": "stream",
     "text": [
      "  Fault_Severity Maintenance_Type  Downtime_Hours  Downtime_Minutes\n",
      "0  High-Severity         External               0                 0\n",
      "1        Routine         In-House               0                60\n"
     ]
    }
   ],
   "source": [
    "# Step 1: Extract Fault Type and Map Severity of Fault Type\n",
    "df_fault['Fault_Type'] = df_fault['Fault'].str[-2:]  # Extract the last two characters\n",
    "severity_mapping = {\n",
    "    'GF': 'Routine',\n",
    "    'MF': 'High-Severity',\n",
    "    'FF': 'High-Severity',\n",
    "    'AF': 'Routine'\n",
    "}\n",
    "df_fault['Fault_Severity'] = df_fault['Fault_Type'].map(severity_mapping)\n",
    "\n",
    "# Step 2: Assign Maintenance Type (Placeholder for now where high severity is external, other types are in-house)\n",
    "df_fault['Maintenance_Type'] = np.where(df_fault['Fault_Severity'] == 'High-Severity', 'External', 'In-House')\n",
    "\n",
    "# Step 3: Analyze Downtime\n",
    "# Analyze Downtime Hours\n",
    "# Add a Downtime Hours column to indicate downtime when Operating Hours = 0\n",
    "df_fault['Downtime Hours'] = df_fault['DateTime'].isin(\n",
    "    df_scada[df_scada['WEC: Operating Hours'] == 0]['DateTime']\n",
    ").astype(int)\n",
    "\n",
    "# Add a Downtime Minutes column to indicate downtime when Production Minutes = 0\n",
    "df_fault['Downtime Minutes'] = df_fault['DateTime'].isin(\n",
    "    df_scada[df_scada['WEC: Production minutes'] == 0]['DateTime']\n",
    ").astype(int)\n",
    "\n",
    "# Aggregate to get downtime in hours and minutes for each fault severity and maintenance type\n",
    "downtime_summary = df_fault.groupby(['Fault_Severity', 'Maintenance_Type'])[['Downtime_Hours', 'Downtime_Minutes']].sum().reset_index()\n",
    "\n",
    "print(downtime_summary)"
   ]
  },
  {
   "cell_type": "markdown",
   "metadata": {},
   "source": [
    "* Needs more evalutation to derive insights"
   ]
  },
  {
   "cell_type": "markdown",
   "metadata": {},
   "source": [
    "# HDD Goal # 3: Predictive Indicators for SCADA Data Hypothesis\n",
    "Objective: Perform correlation and regression analysis on SCADA data to identify leading indicators of faults for predictive maintenance."
   ]
  },
  {
   "cell_type": "code",
   "execution_count": 13,
   "metadata": {},
   "outputs": [
    {
     "name": "stdout",
     "output_type": "stream",
     "text": [
      "             DateTime                          Time  Error  \\\n",
      "0 2014-05-01 00:00:00 1970-01-01 00:00:01.398920448      0   \n",
      "1 2014-05-01 00:09:00 1970-01-01 00:00:01.398920960      0   \n",
      "2 2014-05-01 00:20:00 1970-01-01 00:00:01.398921600      0   \n",
      "3 2014-05-01 00:30:00 1970-01-01 00:00:01.398922240      0   \n",
      "4 2014-05-01 00:39:00 1970-01-01 00:00:01.398922752      0   \n",
      "\n",
      "   WEC: ava. windspeed  WEC: max. windspeed  WEC: min. windspeed  \\\n",
      "0                  6.9                  9.4                  2.9   \n",
      "1                  5.3                  8.9                  1.6   \n",
      "2                  5.0                  9.5                  1.4   \n",
      "3                  4.4                  8.3                  1.3   \n",
      "4                  5.7                  9.7                  1.2   \n",
      "\n",
      "   WEC: ava. Rotation  WEC: max. Rotation  WEC: min. Rotation  \\\n",
      "0                 0.0                0.02                 0.0   \n",
      "1                 0.0                0.01                 0.0   \n",
      "2                 0.0                0.04                 0.0   \n",
      "3                 0.0                0.08                 0.0   \n",
      "4                 0.0                0.05                 0.0   \n",
      "\n",
      "   WEC: ava. Power  ...  Control cabinet temp.  Transformer temp.  \\\n",
      "0                0  ...                     24                 34   \n",
      "1                0  ...                     24                 34   \n",
      "2                0  ...                     24                 34   \n",
      "3                0  ...                     24                 34   \n",
      "4                0  ...                     23                 34   \n",
      "\n",
      "   RTU: ava. Setpoint 1  Inverter averages  Inverter std dev  Month  \\\n",
      "0                  2501          25.272728          1.103713      5   \n",
      "1                  2501          25.272728          1.103713      5   \n",
      "2                  2501          25.272728          1.103713      5   \n",
      "3                  2501          25.272728          1.103713      5   \n",
      "4                  2501          25.272728          1.103713      5   \n",
      "\n",
      "   Day_of_Week  Season  WEC: Production kWh_y  Fault_Count  \n",
      "0            3  Spring           4.964072e+06            6  \n",
      "1            3  Spring           4.964072e+06            6  \n",
      "2            3  Spring           4.964072e+06            6  \n",
      "3            3  Spring           4.964072e+06            6  \n",
      "4            3  Spring           4.964072e+06            6  \n",
      "\n",
      "[5 rows x 71 columns]\n"
     ]
    }
   ],
   "source": [
    "# Merge SCADA and Fault data\n",
    "df_merged = pd.merge(df_scada, seasonal_data, on='Season', how='left')\n",
    "\n",
    "# Verify the merged DataFrame\n",
    "print(df_merged.head())"
   ]
  },
  {
   "cell_type": "code",
   "execution_count": 14,
   "metadata": {},
   "outputs": [
    {
     "name": "stdout",
     "output_type": "stream",
     "text": [
      "Fault_Count                                          1.000000\n",
      "RTU: ava. Setpoint 1                                 0.456216\n",
      "Stator temp. 2                                       0.188250\n",
      "Stator temp. 1                                       0.187911\n",
      "WEC: ava. reactive Power                             0.172701\n",
      "                                                       ...   \n",
      "Nacelle cabinet temp.                               -0.070269\n",
      "Pitch cabinet blade C temp.                         -0.091827\n",
      "WEC: ava. Nacel position including cable twisting   -0.110221\n",
      "WEC: ava. blade angle A                             -0.174071\n",
      "Sys 2 inverter 6 cabinet temp.                            NaN\n",
      "Name: Fault_Count, Length: 66, dtype: float64\n"
     ]
    }
   ],
   "source": [
    "# Filter numeric columns for correlation analysis\n",
    "scada_numeric_columns = df_merged.select_dtypes(include=['float64', 'int64']).columns\n",
    "\n",
    "# Compute correlations between SCADA metrics and Fault_Count\n",
    "correlation_matrix = df_merged[scada_numeric_columns].corr()\n",
    "\n",
    "# Display correlations with Fault_Count\n",
    "correlations_with_faults = correlation_matrix['Fault_Count'].sort_values(ascending=False)\n",
    "print(correlations_with_faults)"
   ]
  },
  {
   "cell_type": "code",
   "execution_count": 15,
   "metadata": {},
   "outputs": [
    {
     "name": "stdout",
     "output_type": "stream",
     "text": [
      "Model Coefficients: [1.]\n",
      "Model Intercept: 1.1368683772161603e-12\n",
      "Training R^2 Score: 1.0\n",
      "Test R^2 Score: 1.0\n"
     ]
    }
   ],
   "source": [
    "# Select features with high correlation to Fault_Count\n",
    "top_features = correlations_with_faults[correlations_with_faults > 0.5].index.tolist()\n",
    "\n",
    "# Prepare data for regression\n",
    "X = df_merged[top_features]\n",
    "y = df_merged['Fault_Count']\n",
    "\n",
    "# Split data\n",
    "X_train, X_test, y_train, y_test = train_test_split(X, y, test_size=0.2, random_state=42)\n",
    "\n",
    "# Train regression model\n",
    "model = LinearRegression()\n",
    "model.fit(X_train, y_train)\n",
    "\n",
    "# Evaluate the model\n",
    "print(\"Model Coefficients:\", model.coef_)\n",
    "print(\"Model Intercept:\", model.intercept_)\n",
    "print(\"Training R^2 Score:\", model.score(X_train, y_train))\n",
    "print(\"Test R^2 Score:\", model.score(X_test, y_test))"
   ]
  },
  {
   "cell_type": "markdown",
   "metadata": {},
   "source": [
    "R score of 1.0 indicates there needs to be some additional analysis. "
   ]
  },
  {
   "cell_type": "markdown",
   "metadata": {},
   "source": []
  }
 ],
 "metadata": {
  "kernelspec": {
   "display_name": "732_turbine_env",
   "language": "python",
   "name": "python3"
  },
  "language_info": {
   "codemirror_mode": {
    "name": "ipython",
    "version": 3
   },
   "file_extension": ".py",
   "mimetype": "text/x-python",
   "name": "python",
   "nbconvert_exporter": "python",
   "pygments_lexer": "ipython3",
   "version": "3.8.20"
  }
 },
 "nbformat": 4,
 "nbformat_minor": 2
}
