{
 "cells": [
  {
   "cell_type": "code",
   "execution_count": 8,
   "metadata": {},
   "outputs": [],
   "source": [
    "import pandas as pd\n",
    "import numpy as np\n",
    "import pulp\n",
    "from pulp import LpProblem, LpMinimize, LpVariable, lpSum\n",
    "from optimization import MaintenanceOptimization"
   ]
  },
  {
   "cell_type": "code",
   "execution_count": 26,
   "metadata": {},
   "outputs": [],
   "source": [
    "def sensitivity_analysis(optimization_model, parameter_name, parameter_values):\n",
    "    \"\"\"\n",
    "    Perform sensitivity analysis by varying a given parameter and re-solving the optimization problem.\n",
    "\n",
    "    Args:\n",
    "        optimization_model (MaintenanceOptimization): The initialized optimization model.\n",
    "        parameter_name (str): The parameter to vary (e.g., 'downtime_cost_per_kwh').\n",
    "        parameter_values (list): List of values to test for the parameter.\n",
    "\n",
    "    Returns:\n",
    "        pd.DataFrame: Results of the sensitivity analysis including parameter values, objective values, and adjusted downtime costs.\n",
    "    \"\"\"\n",
    "    results = []\n",
    "\n",
    "    for value in parameter_values:\n",
    "        # Update the parameter being analyzed\n",
    "        if parameter_name == 'downtime_cost_per_kwh':\n",
    "            optimization_model.downtime_cost_per_kwh = value\n",
    "        elif parameter_name in optimization_model.maintenance_costs:\n",
    "            optimization_model.maintenance_costs[parameter_name] = value\n",
    "\n",
    "        simulated_downtime = {f\"Downtime_{i}\": 12 for i in optimization_model.data.index}  # Half of 24 hours\n",
    "\n",
    "        # Calculate hypothetical downtime costs\n",
    "        simulated_downtime_cost = sum(\n",
    "            optimization_model.data.loc[i, 'WEC: Production kWh'] * simulated_downtime[f\"Downtime_{i}\"] * value\n",
    "            for i in optimization_model.data.index\n",
    "        )\n",
    "\n",
    "        # Add simulated downtime cost to the fixed maintenance cost\n",
    "        fixed_maintenance_cost = sum(optimization_model.maintenance_costs['routine'] if optimization_model.data.loc[i, 'Fault'] == 'Routine' else optimization_model.maintenance_costs['default']\n",
    "                                     for i in optimization_model.data.index)\n",
    "        \n",
    "        adjusted_total_cost = fixed_maintenance_cost + simulated_downtime_cost\n",
    "\n",
    "        # Append results\n",
    "        results.append({\n",
    "            'Parameter': parameter_name,\n",
    "            'Value': value,\n",
    "            'Simulated_Downtime_Cost': simulated_downtime_cost,\n",
    "            'Adjusted_Total_Cost': adjusted_total_cost,\n",
    "            'Simulated_Downtime': simulated_downtime,\n",
    "        })\n",
    "\n",
    "    return pd.DataFrame(results)"
   ]
  },
  {
   "cell_type": "code",
   "execution_count": 27,
   "metadata": {},
   "outputs": [
    {
     "name": "stdout",
     "output_type": "stream",
     "text": [
      "               Parameter  Value  Simulated_Downtime_Cost  Adjusted_Total_Cost\n",
      "0  downtime_cost_per_kwh   0.05                   3780.0            1603780.0\n",
      "1  downtime_cost_per_kwh   0.06                   4536.0            1604536.0\n",
      "2  downtime_cost_per_kwh   0.07                   5292.0            1605292.0\n",
      "3  downtime_cost_per_kwh   0.08                   6048.0            1606048.0\n",
      "4  downtime_cost_per_kwh   0.09                   6804.0            1606804.0\n"
     ]
    }
   ],
   "source": [
    "# Perform sensitivity analysis on downtime cost per kWh\n",
    "parameter_name = 'downtime_cost_per_kwh'\n",
    "parameter_values = [0.05, 0.06, 0.07, 0.08, 0.09]  # Test different values of downtime cost\n",
    "\n",
    "# Run sensitivity analysis\n",
    "results = sensitivity_analysis(model, parameter_name, parameter_values)\n",
    "\n",
    "# Display results\n",
    "print(results[['Parameter', 'Value', 'Simulated_Downtime_Cost', 'Adjusted_Total_Cost']])"
   ]
  }
 ],
 "metadata": {
  "kernelspec": {
   "display_name": "732_turbine_env",
   "language": "python",
   "name": "python3"
  },
  "language_info": {
   "codemirror_mode": {
    "name": "ipython",
    "version": 3
   },
   "file_extension": ".py",
   "mimetype": "text/x-python",
   "name": "python",
   "nbconvert_exporter": "python",
   "pygments_lexer": "ipython3",
   "version": "3.8.20"
  }
 },
 "nbformat": 4,
 "nbformat_minor": 2
}
